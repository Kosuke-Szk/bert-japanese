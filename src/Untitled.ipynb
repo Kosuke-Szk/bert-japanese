{
 "cells": [
  {
   "cell_type": "code",
   "execution_count": 1,
   "metadata": {},
   "outputs": [],
   "source": [
    "#!/usr/bin/env python3\n",
    "\n",
    "import configparser\n",
    "import os\n",
    "import subprocess\n",
    "import sys\n",
    "from urllib.request import urlretrieve\n",
    "\n",
    "CURDIR = \"/home/ubuntu/workspace/bert-japanese/src\" #os.path.dirname(os.path.abspath(__file__))\n",
    "CONFIGPATH = os.path.join(CURDIR, os.pardir, 'config.ini')\n",
    "config = configparser.ConfigParser()\n",
    "config.read(CONFIGPATH)\n",
    "\n",
    "FILEURL = config['DATA']['FILEURL']\n",
    "FILEPATH = config['DATA']['FILEPATH']\n",
    "EXTRACTDIR = config['DATA']['TEXTDIR']\n",
    "\n",
    "\n",
    "def reporthook(blocknum, blocksize, totalsize):\n",
    "    '''\n",
    "    Callback function to show progress of file downloading.\n",
    "    '''\n",
    "    readsofar = blocknum * blocksize\n",
    "    if totalsize > 0:\n",
    "        percent = readsofar * 1e2 / totalsize\n",
    "        s = \"\\r%5.1f%% %*d / %d\" % (\n",
    "            percent, len(str(totalsize)), readsofar, totalsize)\n",
    "        sys.stderr.write(s)\n",
    "        if readsofar >= totalsize:  # near the end\n",
    "            sys.stderr.write(\"\\n\")\n",
    "    else:  # total size is unknown\n",
    "        sys.stderr.write(\"read %d\\n\" % (readsofar,))\n",
    "\n",
    "\n",
    "def download():\n",
    "    urlretrieve(FILEURL, FILEPATH, reporthook)\n",
    "\n",
    "\n",
    "def extract():\n",
    "    subprocess.call(['python3', \n",
    "                    os.path.join(CURDIR, os.pardir, os.pardir, \n",
    "                                 'wikiextractor', 'WikiExtractor.py'), \n",
    "                    FILEPATH, \"-o={}\".format(EXTRACTDIR)])\n",
    "\n",
    "\n",
    "def main():\n",
    "    download()\n",
    "    extract()"
   ]
  },
  {
   "cell_type": "code",
   "execution_count": 6,
   "metadata": {},
   "outputs": [
    {
     "data": {
      "text/plain": [
       "'/home/ubuntu/workspace/bert-japanese/data/wiki/'"
      ]
     },
     "execution_count": 6,
     "metadata": {},
     "output_type": "execute_result"
    }
   ],
   "source": [
    "EXTRACTDIR"
   ]
  },
  {
   "cell_type": "code",
   "execution_count": null,
   "metadata": {},
   "outputs": [],
   "source": []
  }
 ],
 "metadata": {
  "kernelspec": {
   "display_name": "Python 3",
   "language": "python",
   "name": "python3"
  },
  "language_info": {
   "codemirror_mode": {
    "name": "ipython",
    "version": 3
   },
   "file_extension": ".py",
   "mimetype": "text/x-python",
   "name": "python",
   "nbconvert_exporter": "python",
   "pygments_lexer": "ipython3",
   "version": "3.6.5"
  }
 },
 "nbformat": 4,
 "nbformat_minor": 2
}
